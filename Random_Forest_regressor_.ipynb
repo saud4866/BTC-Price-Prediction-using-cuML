{
  "metadata": {
    "kernelspec": {
      "display_name": "Python 3",
      "name": "python3"
    },
    "language_info": {
      "name": "python",
      "version": "3.11.11",
      "mimetype": "text/x-python",
      "codemirror_mode": {
        "name": "ipython",
        "version": 3
      },
      "pygments_lexer": "ipython3",
      "nbconvert_exporter": "python",
      "file_extension": ".py"
    },
    "kaggle": {
      "accelerator": "nvidiaTeslaT4",
      "dataSources": [
        {
          "sourceId": 11409305,
          "sourceType": "datasetVersion",
          "datasetId": 1346
        }
      ],
      "dockerImageVersionId": 31011,
      "isInternetEnabled": true,
      "language": "python",
      "sourceType": "notebook",
      "isGpuEnabled": true
    },
    "colab": {
      "provenance": [],
      "machine_shape": "hm",
      "gpuType": "A100"
    },
    "accelerator": "GPU"
  },
  "nbformat_minor": 0,
  "nbformat": 4,
  "cells": [
    {
      "cell_type": "code",
      "source": [
        "import cudf\n",
        "from cuml.linear_model import LinearRegression\n",
        "from cuml.cluster import KMeans\n",
        "import numpy as np\n",
        "import cupy as cp\n",
        "import pandas as pd\n",
        "from cuml.preprocessing import StandardScaler\n",
        "from cuml.linear_model import LogisticRegression\n",
        "from cuml.metrics import accuracy_score\n",
        "from google.colab import drive\n"
      ],
      "metadata": {
        "_uuid": "8f2839f25d086af736a60e9eeb907d3b93b6e0e5",
        "_cell_guid": "b1076dfc-b9ad-4769-8c92-a6c4dae69d19",
        "trusted": true,
        "execution": {
          "iopub.status.busy": "2025-04-15T15:02:32.411757Z",
          "iopub.execute_input": "2025-04-15T15:02:32.412429Z",
          "iopub.status.idle": "2025-04-15T15:02:32.416434Z",
          "shell.execute_reply.started": "2025-04-15T15:02:32.412404Z",
          "shell.execute_reply": "2025-04-15T15:02:32.415676Z"
        },
        "id": "i8Y4Cf0zJfcX"
      },
      "outputs": [],
      "execution_count": null
    },
    {
      "cell_type": "code",
      "source": [
        "!nvidia-smi"
      ],
      "metadata": {
        "colab": {
          "base_uri": "https://localhost:8080/"
        },
        "id": "bihdPVKUMjrZ",
        "outputId": "00c2422c-5da0-4d60-8907-3ed80313f85d"
      },
      "execution_count": null,
      "outputs": [
        {
          "output_type": "stream",
          "name": "stdout",
          "text": [
            "Sun Apr 20 12:40:31 2025       \n",
            "+-----------------------------------------------------------------------------------------+\n",
            "| NVIDIA-SMI 550.54.15              Driver Version: 550.54.15      CUDA Version: 12.4     |\n",
            "|-----------------------------------------+------------------------+----------------------+\n",
            "| GPU  Name                 Persistence-M | Bus-Id          Disp.A | Volatile Uncorr. ECC |\n",
            "| Fan  Temp   Perf          Pwr:Usage/Cap |           Memory-Usage | GPU-Util  Compute M. |\n",
            "|                                         |                        |               MIG M. |\n",
            "|=========================================+========================+======================|\n",
            "|   0  NVIDIA A100-SXM4-40GB          Off |   00000000:00:04.0 Off |                    0 |\n",
            "| N/A   32C    P0             50W /  400W |    3443MiB /  40960MiB |      0%      Default |\n",
            "|                                         |                        |             Disabled |\n",
            "+-----------------------------------------+------------------------+----------------------+\n",
            "                                                                                         \n",
            "+-----------------------------------------------------------------------------------------+\n",
            "| Processes:                                                                              |\n",
            "|  GPU   GI   CI        PID   Type   Process name                              GPU Memory |\n",
            "|        ID   ID                                                               Usage      |\n",
            "|=========================================================================================|\n",
            "+-----------------------------------------------------------------------------------------+\n"
          ]
        }
      ]
    },
    {
      "cell_type": "code",
      "source": [
        "drive.mount('/content/drive')\n",
        "df = cudf.read_csv(\"/content/drive/MyDrive/btcusd_1-min_data.csv\")"
      ],
      "metadata": {
        "trusted": true,
        "execution": {
          "iopub.status.busy": "2025-04-15T15:02:32.417631Z",
          "iopub.execute_input": "2025-04-15T15:02:32.417892Z",
          "iopub.status.idle": "2025-04-15T15:02:32.735234Z",
          "shell.execute_reply.started": "2025-04-15T15:02:32.417866Z",
          "shell.execute_reply": "2025-04-15T15:02:32.734636Z"
        },
        "colab": {
          "base_uri": "https://localhost:8080/"
        },
        "id": "JHs9vffbJfcY",
        "outputId": "615000a3-810f-4195-c6da-5c7d9c976bd7"
      },
      "outputs": [
        {
          "output_type": "stream",
          "name": "stdout",
          "text": [
            "Drive already mounted at /content/drive; to attempt to forcibly remount, call drive.mount(\"/content/drive\", force_remount=True).\n"
          ]
        }
      ],
      "execution_count": null
    },
    {
      "cell_type": "code",
      "source": [
        "df.head()\n"
      ],
      "metadata": {
        "trusted": true,
        "execution": {
          "iopub.status.busy": "2025-04-15T15:02:32.736045Z",
          "iopub.execute_input": "2025-04-15T15:02:32.736254Z",
          "iopub.status.idle": "2025-04-15T15:02:32.941532Z",
          "shell.execute_reply.started": "2025-04-15T15:02:32.736238Z",
          "shell.execute_reply": "2025-04-15T15:02:32.940858Z"
        },
        "colab": {
          "base_uri": "https://localhost:8080/",
          "height": 206
        },
        "id": "McOqYb9vJfcY",
        "outputId": "5830e23f-2668-43f7-c790-7ea4e22098cf"
      },
      "outputs": [
        {
          "output_type": "execute_result",
          "data": {
            "text/plain": [
              "      Timestamp  Open  High   Low  Close  Volume                   datetime\n",
              "0  1.325412e+09  4.58  4.58  4.58   4.58     0.0  2012-01-01 10:01:00+00:00\n",
              "1  1.325412e+09  4.58  4.58  4.58   4.58     0.0  2012-01-01 10:02:00+00:00\n",
              "2  1.325412e+09  4.58  4.58  4.58   4.58     0.0  2012-01-01 10:03:00+00:00\n",
              "3  1.325412e+09  4.58  4.58  4.58   4.58     0.0  2012-01-01 10:04:00+00:00\n",
              "4  1.325412e+09  4.58  4.58  4.58   4.58     0.0  2012-01-01 10:05:00+00:00"
            ],
            "text/html": [
              "<div>\n",
              "<style scoped>\n",
              "    .dataframe tbody tr th:only-of-type {\n",
              "        vertical-align: middle;\n",
              "    }\n",
              "\n",
              "    .dataframe tbody tr th {\n",
              "        vertical-align: top;\n",
              "    }\n",
              "\n",
              "    .dataframe thead th {\n",
              "        text-align: right;\n",
              "    }\n",
              "</style>\n",
              "<table border=\"1\" class=\"dataframe\">\n",
              "  <thead>\n",
              "    <tr style=\"text-align: right;\">\n",
              "      <th></th>\n",
              "      <th>Timestamp</th>\n",
              "      <th>Open</th>\n",
              "      <th>High</th>\n",
              "      <th>Low</th>\n",
              "      <th>Close</th>\n",
              "      <th>Volume</th>\n",
              "      <th>datetime</th>\n",
              "    </tr>\n",
              "  </thead>\n",
              "  <tbody>\n",
              "    <tr>\n",
              "      <th>0</th>\n",
              "      <td>1.325412e+09</td>\n",
              "      <td>4.58</td>\n",
              "      <td>4.58</td>\n",
              "      <td>4.58</td>\n",
              "      <td>4.58</td>\n",
              "      <td>0.0</td>\n",
              "      <td>2012-01-01 10:01:00+00:00</td>\n",
              "    </tr>\n",
              "    <tr>\n",
              "      <th>1</th>\n",
              "      <td>1.325412e+09</td>\n",
              "      <td>4.58</td>\n",
              "      <td>4.58</td>\n",
              "      <td>4.58</td>\n",
              "      <td>4.58</td>\n",
              "      <td>0.0</td>\n",
              "      <td>2012-01-01 10:02:00+00:00</td>\n",
              "    </tr>\n",
              "    <tr>\n",
              "      <th>2</th>\n",
              "      <td>1.325412e+09</td>\n",
              "      <td>4.58</td>\n",
              "      <td>4.58</td>\n",
              "      <td>4.58</td>\n",
              "      <td>4.58</td>\n",
              "      <td>0.0</td>\n",
              "      <td>2012-01-01 10:03:00+00:00</td>\n",
              "    </tr>\n",
              "    <tr>\n",
              "      <th>3</th>\n",
              "      <td>1.325412e+09</td>\n",
              "      <td>4.58</td>\n",
              "      <td>4.58</td>\n",
              "      <td>4.58</td>\n",
              "      <td>4.58</td>\n",
              "      <td>0.0</td>\n",
              "      <td>2012-01-01 10:04:00+00:00</td>\n",
              "    </tr>\n",
              "    <tr>\n",
              "      <th>4</th>\n",
              "      <td>1.325412e+09</td>\n",
              "      <td>4.58</td>\n",
              "      <td>4.58</td>\n",
              "      <td>4.58</td>\n",
              "      <td>4.58</td>\n",
              "      <td>0.0</td>\n",
              "      <td>2012-01-01 10:05:00+00:00</td>\n",
              "    </tr>\n",
              "  </tbody>\n",
              "</table>\n",
              "</div>"
            ]
          },
          "metadata": {},
          "execution_count": 62
        }
      ],
      "execution_count": null
    },
    {
      "cell_type": "code",
      "source": [
        "df.info()\n"
      ],
      "metadata": {
        "trusted": true,
        "execution": {
          "iopub.status.busy": "2025-04-15T15:02:32.943539Z",
          "iopub.execute_input": "2025-04-15T15:02:32.943849Z",
          "iopub.status.idle": "2025-04-15T15:02:32.952872Z",
          "shell.execute_reply.started": "2025-04-15T15:02:32.943823Z",
          "shell.execute_reply": "2025-04-15T15:02:32.952182Z"
        },
        "colab": {
          "base_uri": "https://localhost:8080/"
        },
        "id": "-pDG4iE0JfcZ",
        "outputId": "5d46b529-a5dc-43e5-abb1-5d88cb12d015"
      },
      "outputs": [
        {
          "output_type": "stream",
          "name": "stdout",
          "text": [
            "<class 'cudf.core.dataframe.DataFrame'>\n",
            "RangeIndex: 6985166 entries, 0 to 6985165\n",
            "Data columns (total 7 columns):\n",
            " #   Column     Dtype\n",
            "---  ------     -----\n",
            " 0   Timestamp  float64\n",
            " 1   Open       float64\n",
            " 2   High       float64\n",
            " 3   Low        float64\n",
            " 4   Close      float64\n",
            " 5   Volume     float64\n",
            " 6   datetime   object\n",
            "dtypes: float64(6), object(1)\n",
            "memory usage: 508.9+ MB\n"
          ]
        }
      ],
      "execution_count": null
    },
    {
      "cell_type": "code",
      "source": [
        "df.describe()\n"
      ],
      "metadata": {
        "trusted": true,
        "execution": {
          "iopub.status.busy": "2025-04-15T15:02:32.953767Z",
          "iopub.execute_input": "2025-04-15T15:02:32.954017Z",
          "iopub.status.idle": "2025-04-15T15:02:33.204744Z",
          "shell.execute_reply.started": "2025-04-15T15:02:32.953996Z",
          "shell.execute_reply": "2025-04-15T15:02:33.203762Z"
        },
        "colab": {
          "base_uri": "https://localhost:8080/",
          "height": 300
        },
        "id": "T5aRoOGXJfcZ",
        "outputId": "c25396e2-e0a1-4e7c-81e9-ff3323edd76e"
      },
      "outputs": [
        {
          "output_type": "execute_result",
          "data": {
            "text/plain": [
              "          Timestamp          Open          High           Low         Close  \\\n",
              "count  6.985166e+06  6.985166e+06  6.985166e+06  6.985166e+06  6.985166e+06   \n",
              "mean   1.534967e+09  1.713679e+04  1.714370e+04  1.712966e+04  1.713679e+04   \n",
              "std    1.209874e+08  2.369427e+04  2.370232e+04  2.368603e+04  2.369426e+04   \n",
              "min    1.325412e+09  3.800000e+00  3.800000e+00  3.800000e+00  3.800000e+00   \n",
              "25%    1.430190e+09  4.230400e+02  4.232100e+02  4.229800e+02  4.230400e+02   \n",
              "50%    1.534967e+09  6.551935e+03  6.554430e+03  6.549780e+03  6.551840e+03   \n",
              "75%    1.639744e+09  2.707000e+04  2.707500e+04  2.706500e+04  2.707000e+04   \n",
              "max    1.744592e+09  1.091110e+05  1.093560e+05  1.087940e+05  1.090360e+05   \n",
              "\n",
              "             Volume  \n",
              "count  6.985166e+06  \n",
              "mean   5.318181e+00  \n",
              "std    2.255904e+01  \n",
              "min    0.000000e+00  \n",
              "25%    1.819100e-02  \n",
              "50%    4.728120e-01  \n",
              "75%    3.048188e+00  \n",
              "max    5.853852e+03  "
            ],
            "text/html": [
              "<div>\n",
              "<style scoped>\n",
              "    .dataframe tbody tr th:only-of-type {\n",
              "        vertical-align: middle;\n",
              "    }\n",
              "\n",
              "    .dataframe tbody tr th {\n",
              "        vertical-align: top;\n",
              "    }\n",
              "\n",
              "    .dataframe thead th {\n",
              "        text-align: right;\n",
              "    }\n",
              "</style>\n",
              "<table border=\"1\" class=\"dataframe\">\n",
              "  <thead>\n",
              "    <tr style=\"text-align: right;\">\n",
              "      <th></th>\n",
              "      <th>Timestamp</th>\n",
              "      <th>Open</th>\n",
              "      <th>High</th>\n",
              "      <th>Low</th>\n",
              "      <th>Close</th>\n",
              "      <th>Volume</th>\n",
              "    </tr>\n",
              "  </thead>\n",
              "  <tbody>\n",
              "    <tr>\n",
              "      <th>count</th>\n",
              "      <td>6.985166e+06</td>\n",
              "      <td>6.985166e+06</td>\n",
              "      <td>6.985166e+06</td>\n",
              "      <td>6.985166e+06</td>\n",
              "      <td>6.985166e+06</td>\n",
              "      <td>6.985166e+06</td>\n",
              "    </tr>\n",
              "    <tr>\n",
              "      <th>mean</th>\n",
              "      <td>1.534967e+09</td>\n",
              "      <td>1.713679e+04</td>\n",
              "      <td>1.714370e+04</td>\n",
              "      <td>1.712966e+04</td>\n",
              "      <td>1.713679e+04</td>\n",
              "      <td>5.318181e+00</td>\n",
              "    </tr>\n",
              "    <tr>\n",
              "      <th>std</th>\n",
              "      <td>1.209874e+08</td>\n",
              "      <td>2.369427e+04</td>\n",
              "      <td>2.370232e+04</td>\n",
              "      <td>2.368603e+04</td>\n",
              "      <td>2.369426e+04</td>\n",
              "      <td>2.255904e+01</td>\n",
              "    </tr>\n",
              "    <tr>\n",
              "      <th>min</th>\n",
              "      <td>1.325412e+09</td>\n",
              "      <td>3.800000e+00</td>\n",
              "      <td>3.800000e+00</td>\n",
              "      <td>3.800000e+00</td>\n",
              "      <td>3.800000e+00</td>\n",
              "      <td>0.000000e+00</td>\n",
              "    </tr>\n",
              "    <tr>\n",
              "      <th>25%</th>\n",
              "      <td>1.430190e+09</td>\n",
              "      <td>4.230400e+02</td>\n",
              "      <td>4.232100e+02</td>\n",
              "      <td>4.229800e+02</td>\n",
              "      <td>4.230400e+02</td>\n",
              "      <td>1.819100e-02</td>\n",
              "    </tr>\n",
              "    <tr>\n",
              "      <th>50%</th>\n",
              "      <td>1.534967e+09</td>\n",
              "      <td>6.551935e+03</td>\n",
              "      <td>6.554430e+03</td>\n",
              "      <td>6.549780e+03</td>\n",
              "      <td>6.551840e+03</td>\n",
              "      <td>4.728120e-01</td>\n",
              "    </tr>\n",
              "    <tr>\n",
              "      <th>75%</th>\n",
              "      <td>1.639744e+09</td>\n",
              "      <td>2.707000e+04</td>\n",
              "      <td>2.707500e+04</td>\n",
              "      <td>2.706500e+04</td>\n",
              "      <td>2.707000e+04</td>\n",
              "      <td>3.048188e+00</td>\n",
              "    </tr>\n",
              "    <tr>\n",
              "      <th>max</th>\n",
              "      <td>1.744592e+09</td>\n",
              "      <td>1.091110e+05</td>\n",
              "      <td>1.093560e+05</td>\n",
              "      <td>1.087940e+05</td>\n",
              "      <td>1.090360e+05</td>\n",
              "      <td>5.853852e+03</td>\n",
              "    </tr>\n",
              "  </tbody>\n",
              "</table>\n",
              "</div>"
            ]
          },
          "metadata": {},
          "execution_count": 64
        }
      ],
      "execution_count": null
    },
    {
      "cell_type": "code",
      "source": [
        "df.columns"
      ],
      "metadata": {
        "trusted": true,
        "execution": {
          "iopub.status.busy": "2025-04-15T15:02:33.205703Z",
          "iopub.execute_input": "2025-04-15T15:02:33.206017Z",
          "iopub.status.idle": "2025-04-15T15:02:33.211418Z",
          "shell.execute_reply.started": "2025-04-15T15:02:33.205990Z",
          "shell.execute_reply": "2025-04-15T15:02:33.210674Z"
        },
        "colab": {
          "base_uri": "https://localhost:8080/"
        },
        "id": "X8vJ2vugJfca",
        "outputId": "658d5fff-e73e-4204-baab-a9cdb8e788a6"
      },
      "outputs": [
        {
          "output_type": "execute_result",
          "data": {
            "text/plain": [
              "Index(['Timestamp', 'Open', 'High', 'Low', 'Close', 'Volume', 'datetime'], dtype='object')"
            ]
          },
          "metadata": {},
          "execution_count": 65
        }
      ],
      "execution_count": null
    },
    {
      "cell_type": "code",
      "source": [
        "df.shape"
      ],
      "metadata": {
        "trusted": true,
        "execution": {
          "iopub.status.busy": "2025-04-15T15:02:33.212152Z",
          "iopub.execute_input": "2025-04-15T15:02:33.212339Z",
          "iopub.status.idle": "2025-04-15T15:02:33.222146Z",
          "shell.execute_reply.started": "2025-04-15T15:02:33.212325Z",
          "shell.execute_reply": "2025-04-15T15:02:33.221340Z"
        },
        "colab": {
          "base_uri": "https://localhost:8080/"
        },
        "id": "0NttaA5OJfca",
        "outputId": "30139705-1791-47a5-e433-fd16c2af8719"
      },
      "outputs": [
        {
          "output_type": "execute_result",
          "data": {
            "text/plain": [
              "(6985166, 7)"
            ]
          },
          "metadata": {},
          "execution_count": 66
        }
      ],
      "execution_count": null
    },
    {
      "cell_type": "code",
      "source": [
        "df.isnull().sum()"
      ],
      "metadata": {
        "trusted": true,
        "execution": {
          "iopub.status.busy": "2025-04-15T15:02:33.223091Z",
          "iopub.execute_input": "2025-04-15T15:02:33.223424Z",
          "iopub.status.idle": "2025-04-15T15:02:33.254027Z",
          "shell.execute_reply.started": "2025-04-15T15:02:33.223399Z",
          "shell.execute_reply": "2025-04-15T15:02:33.253195Z"
        },
        "colab": {
          "base_uri": "https://localhost:8080/"
        },
        "id": "kSch3-cBJfca",
        "outputId": "2f4eed1a-4e31-46f7-e4d0-c8575b977024"
      },
      "outputs": [
        {
          "output_type": "execute_result",
          "data": {
            "text/plain": [
              "Timestamp         0\n",
              "Open              0\n",
              "High              0\n",
              "Low               0\n",
              "Close             0\n",
              "Volume            0\n",
              "datetime     202886\n",
              "dtype: int64"
            ]
          },
          "metadata": {},
          "execution_count": 67
        }
      ],
      "execution_count": null
    },
    {
      "cell_type": "code",
      "source": [
        "print(df['Open'].describe())"
      ],
      "metadata": {
        "trusted": true,
        "execution": {
          "iopub.status.busy": "2025-04-15T15:02:33.257555Z",
          "iopub.execute_input": "2025-04-15T15:02:33.257787Z",
          "iopub.status.idle": "2025-04-15T15:02:33.291230Z",
          "shell.execute_reply.started": "2025-04-15T15:02:33.257764Z",
          "shell.execute_reply": "2025-04-15T15:02:33.290422Z"
        },
        "colab": {
          "base_uri": "https://localhost:8080/"
        },
        "id": "4Pbj9bVTJfca",
        "outputId": "701eef7d-29e3-4f40-c6f1-bd645cda1030"
      },
      "outputs": [
        {
          "output_type": "stream",
          "name": "stdout",
          "text": [
            "count    6.985166e+06\n",
            "mean     1.713679e+04\n",
            "std      2.369427e+04\n",
            "min      3.800000e+00\n",
            "25%      4.230400e+02\n",
            "50%      6.551935e+03\n",
            "75%      2.707000e+04\n",
            "max      1.091110e+05\n",
            "Name: Open, dtype: float64\n"
          ]
        }
      ],
      "execution_count": null
    },
    {
      "cell_type": "code",
      "source": [
        "print(df['Volume'].value_counts())"
      ],
      "metadata": {
        "trusted": true,
        "execution": {
          "iopub.status.busy": "2025-04-15T15:02:33.292054Z",
          "iopub.execute_input": "2025-04-15T15:02:33.292359Z",
          "iopub.status.idle": "2025-04-15T15:02:33.342370Z",
          "shell.execute_reply.started": "2025-04-15T15:02:33.292339Z",
          "shell.execute_reply": "2025-04-15T15:02:33.341579Z"
        },
        "colab": {
          "base_uri": "https://localhost:8080/"
        },
        "id": "kdIPdpMnJfca",
        "outputId": "212365d1-418c-4e3b-a989-a7299e128cc2"
      },
      "outputs": [
        {
          "output_type": "stream",
          "name": "stdout",
          "text": [
            "Volume\n",
            "0.000000    1308912\n",
            "1.000000      26780\n",
            "0.500000      11815\n",
            "0.100000      10960\n",
            "2.000000      10480\n",
            "             ...   \n",
            "0.485605          1\n",
            "0.116309          1\n",
            "1.313397          1\n",
            "3.322453          1\n",
            "6.538503          1\n",
            "Name: count, Length: 4915309, dtype: int64\n"
          ]
        }
      ],
      "execution_count": null
    },
    {
      "cell_type": "code",
      "source": [
        "len(df)"
      ],
      "metadata": {
        "trusted": true,
        "execution": {
          "iopub.status.busy": "2025-04-15T15:02:33.343228Z",
          "iopub.execute_input": "2025-04-15T15:02:33.343471Z",
          "iopub.status.idle": "2025-04-15T15:02:33.348920Z",
          "shell.execute_reply.started": "2025-04-15T15:02:33.343454Z",
          "shell.execute_reply": "2025-04-15T15:02:33.348181Z"
        },
        "colab": {
          "base_uri": "https://localhost:8080/"
        },
        "id": "wwjj_URGJfcb",
        "outputId": "66cdf651-167e-4f45-f0fd-19ceaef1032a"
      },
      "outputs": [
        {
          "output_type": "execute_result",
          "data": {
            "text/plain": [
              "6985166"
            ]
          },
          "metadata": {},
          "execution_count": 70
        }
      ],
      "execution_count": null
    },
    {
      "cell_type": "code",
      "source": [
        "df['datetime'] = cudf.to_datetime(df['datetime'].str.replace(r'\\+00:00$', ''))\n"
      ],
      "metadata": {
        "trusted": true,
        "execution": {
          "iopub.status.busy": "2025-04-15T15:02:33.349793Z",
          "iopub.execute_input": "2025-04-15T15:02:33.350363Z",
          "iopub.status.idle": "2025-04-15T15:02:33.438434Z",
          "shell.execute_reply.started": "2025-04-15T15:02:33.350334Z",
          "shell.execute_reply": "2025-04-15T15:02:33.437820Z"
        },
        "id": "B5fhFR0oJfcb"
      },
      "outputs": [],
      "execution_count": null
    },
    {
      "cell_type": "code",
      "source": [
        "df.head()"
      ],
      "metadata": {
        "trusted": true,
        "execution": {
          "iopub.status.busy": "2025-04-15T15:02:33.439064Z",
          "iopub.execute_input": "2025-04-15T15:02:33.439279Z",
          "iopub.status.idle": "2025-04-15T15:02:33.459802Z",
          "shell.execute_reply.started": "2025-04-15T15:02:33.439262Z",
          "shell.execute_reply": "2025-04-15T15:02:33.458937Z"
        },
        "colab": {
          "base_uri": "https://localhost:8080/",
          "height": 206
        },
        "id": "TbqghB4BJfcb",
        "outputId": "2052b912-37c7-4afd-acbe-6d6b6a71d9ac"
      },
      "outputs": [
        {
          "output_type": "execute_result",
          "data": {
            "text/plain": [
              "      Timestamp  Open  High   Low  Close  Volume            datetime\n",
              "0  1.325412e+09  4.58  4.58  4.58   4.58     0.0 2012-01-01 10:01:00\n",
              "1  1.325412e+09  4.58  4.58  4.58   4.58     0.0 2012-01-01 10:02:00\n",
              "2  1.325412e+09  4.58  4.58  4.58   4.58     0.0 2012-01-01 10:03:00\n",
              "3  1.325412e+09  4.58  4.58  4.58   4.58     0.0 2012-01-01 10:04:00\n",
              "4  1.325412e+09  4.58  4.58  4.58   4.58     0.0 2012-01-01 10:05:00"
            ],
            "text/html": [
              "<div>\n",
              "<style scoped>\n",
              "    .dataframe tbody tr th:only-of-type {\n",
              "        vertical-align: middle;\n",
              "    }\n",
              "\n",
              "    .dataframe tbody tr th {\n",
              "        vertical-align: top;\n",
              "    }\n",
              "\n",
              "    .dataframe thead th {\n",
              "        text-align: right;\n",
              "    }\n",
              "</style>\n",
              "<table border=\"1\" class=\"dataframe\">\n",
              "  <thead>\n",
              "    <tr style=\"text-align: right;\">\n",
              "      <th></th>\n",
              "      <th>Timestamp</th>\n",
              "      <th>Open</th>\n",
              "      <th>High</th>\n",
              "      <th>Low</th>\n",
              "      <th>Close</th>\n",
              "      <th>Volume</th>\n",
              "      <th>datetime</th>\n",
              "    </tr>\n",
              "  </thead>\n",
              "  <tbody>\n",
              "    <tr>\n",
              "      <th>0</th>\n",
              "      <td>1.325412e+09</td>\n",
              "      <td>4.58</td>\n",
              "      <td>4.58</td>\n",
              "      <td>4.58</td>\n",
              "      <td>4.58</td>\n",
              "      <td>0.0</td>\n",
              "      <td>2012-01-01 10:01:00</td>\n",
              "    </tr>\n",
              "    <tr>\n",
              "      <th>1</th>\n",
              "      <td>1.325412e+09</td>\n",
              "      <td>4.58</td>\n",
              "      <td>4.58</td>\n",
              "      <td>4.58</td>\n",
              "      <td>4.58</td>\n",
              "      <td>0.0</td>\n",
              "      <td>2012-01-01 10:02:00</td>\n",
              "    </tr>\n",
              "    <tr>\n",
              "      <th>2</th>\n",
              "      <td>1.325412e+09</td>\n",
              "      <td>4.58</td>\n",
              "      <td>4.58</td>\n",
              "      <td>4.58</td>\n",
              "      <td>4.58</td>\n",
              "      <td>0.0</td>\n",
              "      <td>2012-01-01 10:03:00</td>\n",
              "    </tr>\n",
              "    <tr>\n",
              "      <th>3</th>\n",
              "      <td>1.325412e+09</td>\n",
              "      <td>4.58</td>\n",
              "      <td>4.58</td>\n",
              "      <td>4.58</td>\n",
              "      <td>4.58</td>\n",
              "      <td>0.0</td>\n",
              "      <td>2012-01-01 10:04:00</td>\n",
              "    </tr>\n",
              "    <tr>\n",
              "      <th>4</th>\n",
              "      <td>1.325412e+09</td>\n",
              "      <td>4.58</td>\n",
              "      <td>4.58</td>\n",
              "      <td>4.58</td>\n",
              "      <td>4.58</td>\n",
              "      <td>0.0</td>\n",
              "      <td>2012-01-01 10:05:00</td>\n",
              "    </tr>\n",
              "  </tbody>\n",
              "</table>\n",
              "</div>"
            ]
          },
          "metadata": {},
          "execution_count": 72
        }
      ],
      "execution_count": null
    },
    {
      "cell_type": "code",
      "source": [
        "#Because cuDF doesnt support timezones I had to remove it.\n",
        "df['datetime'] = cudf.to_datetime(df['datetime'])"
      ],
      "metadata": {
        "trusted": true,
        "execution": {
          "iopub.status.busy": "2025-04-15T15:02:33.460813Z",
          "iopub.execute_input": "2025-04-15T15:02:33.461096Z",
          "iopub.status.idle": "2025-04-15T15:02:33.465489Z",
          "shell.execute_reply.started": "2025-04-15T15:02:33.461072Z",
          "shell.execute_reply": "2025-04-15T15:02:33.464581Z"
        },
        "id": "02qxMIwmJfcb"
      },
      "outputs": [],
      "execution_count": null
    },
    {
      "cell_type": "code",
      "source": [
        "df.head(6000000)"
      ],
      "metadata": {
        "trusted": true,
        "execution": {
          "iopub.status.busy": "2025-04-15T15:02:33.466260Z",
          "iopub.execute_input": "2025-04-15T15:02:33.466473Z",
          "iopub.status.idle": "2025-04-15T15:02:33.516897Z",
          "shell.execute_reply.started": "2025-04-15T15:02:33.466449Z",
          "shell.execute_reply": "2025-04-15T15:02:33.516011Z"
        },
        "colab": {
          "base_uri": "https://localhost:8080/",
          "height": 423
        },
        "id": "g9gHJJKvJfcb",
        "outputId": "1fc8424b-3f4f-40d9-b744-b99c35a9b937"
      },
      "outputs": [
        {
          "output_type": "execute_result",
          "data": {
            "text/plain": [
              "            Timestamp      Open      High       Low     Close    Volume  \\\n",
              "0        1.325412e+09      4.58      4.58      4.58      4.58  0.000000   \n",
              "1        1.325412e+09      4.58      4.58      4.58      4.58  0.000000   \n",
              "2        1.325412e+09      4.58      4.58      4.58      4.58  0.000000   \n",
              "3        1.325412e+09      4.58      4.58      4.58      4.58  0.000000   \n",
              "4        1.325412e+09      4.58      4.58      4.58      4.58  0.000000   \n",
              "...               ...       ...       ...       ...       ...       ...   \n",
              "5999995  1.685412e+09  27689.00  27689.00  27688.00  27688.00  0.055679   \n",
              "5999996  1.685412e+09  27689.00  27689.00  27681.00  27681.00  0.089355   \n",
              "5999997  1.685412e+09  27678.00  27678.00  27677.00  27677.00  0.750000   \n",
              "5999998  1.685412e+09  27678.00  27678.00  27678.00  27678.00  0.007840   \n",
              "5999999  1.685412e+09  27676.00  27676.00  27651.00  27651.00  0.071124   \n",
              "\n",
              "                   datetime  \n",
              "0       2012-01-01 10:01:00  \n",
              "1       2012-01-01 10:02:00  \n",
              "2       2012-01-01 10:03:00  \n",
              "3       2012-01-01 10:04:00  \n",
              "4       2012-01-01 10:05:00  \n",
              "...                     ...  \n",
              "5999995 2023-05-30 01:56:00  \n",
              "5999996 2023-05-30 01:57:00  \n",
              "5999997 2023-05-30 01:58:00  \n",
              "5999998 2023-05-30 01:59:00  \n",
              "5999999 2023-05-30 02:00:00  \n",
              "\n",
              "[6000000 rows x 7 columns]"
            ],
            "text/html": [
              "<div>\n",
              "<style scoped>\n",
              "    .dataframe tbody tr th:only-of-type {\n",
              "        vertical-align: middle;\n",
              "    }\n",
              "\n",
              "    .dataframe tbody tr th {\n",
              "        vertical-align: top;\n",
              "    }\n",
              "\n",
              "    .dataframe thead th {\n",
              "        text-align: right;\n",
              "    }\n",
              "</style>\n",
              "<table border=\"1\" class=\"dataframe\">\n",
              "  <thead>\n",
              "    <tr style=\"text-align: right;\">\n",
              "      <th></th>\n",
              "      <th>Timestamp</th>\n",
              "      <th>Open</th>\n",
              "      <th>High</th>\n",
              "      <th>Low</th>\n",
              "      <th>Close</th>\n",
              "      <th>Volume</th>\n",
              "      <th>datetime</th>\n",
              "    </tr>\n",
              "  </thead>\n",
              "  <tbody>\n",
              "    <tr>\n",
              "      <th>0</th>\n",
              "      <td>1.325412e+09</td>\n",
              "      <td>4.58</td>\n",
              "      <td>4.58</td>\n",
              "      <td>4.58</td>\n",
              "      <td>4.58</td>\n",
              "      <td>0.000000</td>\n",
              "      <td>2012-01-01 10:01:00</td>\n",
              "    </tr>\n",
              "    <tr>\n",
              "      <th>1</th>\n",
              "      <td>1.325412e+09</td>\n",
              "      <td>4.58</td>\n",
              "      <td>4.58</td>\n",
              "      <td>4.58</td>\n",
              "      <td>4.58</td>\n",
              "      <td>0.000000</td>\n",
              "      <td>2012-01-01 10:02:00</td>\n",
              "    </tr>\n",
              "    <tr>\n",
              "      <th>2</th>\n",
              "      <td>1.325412e+09</td>\n",
              "      <td>4.58</td>\n",
              "      <td>4.58</td>\n",
              "      <td>4.58</td>\n",
              "      <td>4.58</td>\n",
              "      <td>0.000000</td>\n",
              "      <td>2012-01-01 10:03:00</td>\n",
              "    </tr>\n",
              "    <tr>\n",
              "      <th>3</th>\n",
              "      <td>1.325412e+09</td>\n",
              "      <td>4.58</td>\n",
              "      <td>4.58</td>\n",
              "      <td>4.58</td>\n",
              "      <td>4.58</td>\n",
              "      <td>0.000000</td>\n",
              "      <td>2012-01-01 10:04:00</td>\n",
              "    </tr>\n",
              "    <tr>\n",
              "      <th>4</th>\n",
              "      <td>1.325412e+09</td>\n",
              "      <td>4.58</td>\n",
              "      <td>4.58</td>\n",
              "      <td>4.58</td>\n",
              "      <td>4.58</td>\n",
              "      <td>0.000000</td>\n",
              "      <td>2012-01-01 10:05:00</td>\n",
              "    </tr>\n",
              "    <tr>\n",
              "      <th>...</th>\n",
              "      <td>...</td>\n",
              "      <td>...</td>\n",
              "      <td>...</td>\n",
              "      <td>...</td>\n",
              "      <td>...</td>\n",
              "      <td>...</td>\n",
              "      <td>...</td>\n",
              "    </tr>\n",
              "    <tr>\n",
              "      <th>5999995</th>\n",
              "      <td>1.685412e+09</td>\n",
              "      <td>27689.00</td>\n",
              "      <td>27689.00</td>\n",
              "      <td>27688.00</td>\n",
              "      <td>27688.00</td>\n",
              "      <td>0.055679</td>\n",
              "      <td>2023-05-30 01:56:00</td>\n",
              "    </tr>\n",
              "    <tr>\n",
              "      <th>5999996</th>\n",
              "      <td>1.685412e+09</td>\n",
              "      <td>27689.00</td>\n",
              "      <td>27689.00</td>\n",
              "      <td>27681.00</td>\n",
              "      <td>27681.00</td>\n",
              "      <td>0.089355</td>\n",
              "      <td>2023-05-30 01:57:00</td>\n",
              "    </tr>\n",
              "    <tr>\n",
              "      <th>5999997</th>\n",
              "      <td>1.685412e+09</td>\n",
              "      <td>27678.00</td>\n",
              "      <td>27678.00</td>\n",
              "      <td>27677.00</td>\n",
              "      <td>27677.00</td>\n",
              "      <td>0.750000</td>\n",
              "      <td>2023-05-30 01:58:00</td>\n",
              "    </tr>\n",
              "    <tr>\n",
              "      <th>5999998</th>\n",
              "      <td>1.685412e+09</td>\n",
              "      <td>27678.00</td>\n",
              "      <td>27678.00</td>\n",
              "      <td>27678.00</td>\n",
              "      <td>27678.00</td>\n",
              "      <td>0.007840</td>\n",
              "      <td>2023-05-30 01:59:00</td>\n",
              "    </tr>\n",
              "    <tr>\n",
              "      <th>5999999</th>\n",
              "      <td>1.685412e+09</td>\n",
              "      <td>27676.00</td>\n",
              "      <td>27676.00</td>\n",
              "      <td>27651.00</td>\n",
              "      <td>27651.00</td>\n",
              "      <td>0.071124</td>\n",
              "      <td>2023-05-30 02:00:00</td>\n",
              "    </tr>\n",
              "  </tbody>\n",
              "</table>\n",
              "<p>6000000 rows × 7 columns</p>\n",
              "</div>"
            ]
          },
          "metadata": {},
          "execution_count": 74
        }
      ],
      "execution_count": null
    },
    {
      "cell_type": "code",
      "source": [
        "df = df.dropna()"
      ],
      "metadata": {
        "trusted": true,
        "execution": {
          "iopub.status.busy": "2025-04-15T15:02:33.517742Z",
          "iopub.execute_input": "2025-04-15T15:02:33.517935Z",
          "iopub.status.idle": "2025-04-15T15:02:33.530049Z",
          "shell.execute_reply.started": "2025-04-15T15:02:33.517920Z",
          "shell.execute_reply": "2025-04-15T15:02:33.529247Z"
        },
        "id": "idBrqT-qJfcc"
      },
      "outputs": [],
      "execution_count": null
    },
    {
      "cell_type": "code",
      "source": [
        "import matplotlib.pyplot as plt\n",
        "\n",
        "pdf = df.to_pandas()\n",
        "\n",
        "plt.figure(figsize=(12, 6))\n",
        "plt.plot(pdf['datetime'], pdf['Close'])\n",
        "plt.title('Close Price Over Time')\n",
        "plt.xlabel('Datetime')\n",
        "plt.ylabel('Price')\n",
        "plt.xticks(rotation=45)\n",
        "plt.tight_layout()\n",
        "plt.show()"
      ],
      "metadata": {
        "trusted": true,
        "execution": {
          "iopub.status.busy": "2025-04-15T15:02:33.530773Z",
          "iopub.execute_input": "2025-04-15T15:02:33.531063Z",
          "iopub.status.idle": "2025-04-15T15:02:35.220826Z",
          "shell.execute_reply.started": "2025-04-15T15:02:33.531041Z",
          "shell.execute_reply": "2025-04-15T15:02:35.219955Z"
        },
        "colab": {
          "base_uri": "https://localhost:8080/",
          "height": 365
        },
        "id": "Nnwyw2BFJfcc",
        "outputId": "9f9665e7-4fae-44be-fcce-f6680894385e"
      },
      "outputs": [
        {
          "output_type": "display_data",
          "data": {
            "text/plain": [
              "<Figure size 1200x600 with 1 Axes>"
            ],
            "image/png": "[encoded data removed]"
          },
          "metadata": {}
        }
      ],
      "execution_count": null
    },
    {
      "cell_type": "code",
      "source": [
        "import matplotlib.pyplot as plt\n",
        "\n",
        "pdf = df.to_pandas()\n",
        "\n",
        "plt.figure(figsize=(12, 6))\n",
        "plt.plot(pdf['datetime'], pdf['Open'])\n",
        "plt.title('Open Price Over Time')\n",
        "plt.xlabel('Datetime')\n",
        "plt.ylabel('Price')\n",
        "plt.xticks(rotation=45)\n",
        "plt.tight_layout()\n",
        "plt.show()"
      ],
      "metadata": {
        "trusted": true,
        "execution": {
          "iopub.status.busy": "2025-04-15T15:02:35.221746Z",
          "iopub.execute_input": "2025-04-15T15:02:35.222042Z",
          "iopub.status.idle": "2025-04-15T15:02:36.906283Z",
          "shell.execute_reply.started": "2025-04-15T15:02:35.222013Z",
          "shell.execute_reply": "2025-04-15T15:02:36.905384Z"
        },
        "colab": {
          "base_uri": "https://localhost:8080/",
          "height": 365
        },
        "id": "VUCj0M4-Jfcc",
        "outputId": "0f13a9dc-845f-4bb3-ac9e-add093766094"
      },
      "outputs": [
        {
          "output_type": "display_data",
          "data": {
            "text/plain": [
              "<Figure size 1200x600 with 1 Axes>"
            ],
            "image/png": "[encoded data removed]"
          },
          "metadata": {}
        }
      ],
      "execution_count": null
    },
    {
      "cell_type": "code",
      "source": [
        "import cudf\n",
        "import cupy as cp\n",
        "import numpy as np\n",
        "\n",
        "\n",
        "\n",
        "gdf =cudf.read_csv(\"/content/drive/MyDrive/btcusd_1-min_data.csv\")\n",
        "gdf['Target'] = gdf['Close'].shift(-1)\n",
        "\n",
        "# Drop the last row since it has no target\n",
        "gdf = gdf.dropna()\n",
        "\n",
        "print(\"Initial cuDF DataFrame:\")\n",
        "print(gdf.head())\n",
        "\n",
        "features = ['Open', 'High', 'Low', 'Close', 'Volume']\n",
        "X = gdf[features]\n",
        "y = gdf['Target']"
      ],
      "metadata": {
        "trusted": true,
        "execution": {
          "iopub.status.busy": "2025-04-15T15:02:49.811124Z",
          "iopub.execute_input": "2025-04-15T15:02:49.811902Z",
          "iopub.status.idle": "2025-04-15T15:02:50.247685Z",
          "shell.execute_reply.started": "2025-04-15T15:02:49.811878Z",
          "shell.execute_reply": "2025-04-15T15:02:50.246797Z"
        },
        "colab": {
          "base_uri": "https://localhost:8080/"
        },
        "id": "reZCnUJTJfcc",
        "outputId": "72af4e6f-cc71-4689-dc67-910de64c48a6"
      },
      "outputs": [
        {
          "output_type": "stream",
          "name": "stdout",
          "text": [
            "Initial cuDF DataFrame:\n",
            "      Timestamp  Open  High   Low  Close  Volume                   datetime  \\\n",
            "0  1.325412e+09  4.58  4.58  4.58   4.58     0.0  2012-01-01 10:01:00+00:00   \n",
            "1  1.325412e+09  4.58  4.58  4.58   4.58     0.0  2012-01-01 10:02:00+00:00   \n",
            "2  1.325412e+09  4.58  4.58  4.58   4.58     0.0  2012-01-01 10:03:00+00:00   \n",
            "3  1.325412e+09  4.58  4.58  4.58   4.58     0.0  2012-01-01 10:04:00+00:00   \n",
            "4  1.325412e+09  4.58  4.58  4.58   4.58     0.0  2012-01-01 10:05:00+00:00   \n",
            "\n",
            "   Target  \n",
            "0    4.58  \n",
            "1    4.58  \n",
            "2    4.58  \n",
            "3    4.58  \n",
            "4    4.58  \n"
          ]
        }
      ],
      "execution_count": null
    },
    {
      "cell_type": "code",
      "source": [
        "from cuml.preprocessing import MinMaxScaler\n",
        "\n",
        "# Initialize the scaler\n",
        "scaler = MinMaxScaler()\n",
        "\n",
        "# Fit the scaler to the features and transform them\n",
        "X_scaled = scaler.fit_transform(X)\n",
        "\n",
        "# X_scaled is now a cuDF DataFrame with normalized values\n",
        "print(\"\\nScaled Features (X_scaled):\")\n",
        "print(X_scaled.head())"
      ],
      "metadata": {
        "trusted": true,
        "execution": {
          "iopub.status.busy": "2025-04-15T15:02:55.009996Z",
          "iopub.execute_input": "2025-04-15T15:02:55.010640Z",
          "iopub.status.idle": "2025-04-15T15:02:59.073933Z",
          "shell.execute_reply.started": "2025-04-15T15:02:55.010616Z",
          "shell.execute_reply": "2025-04-15T15:02:59.073027Z"
        },
        "colab": {
          "base_uri": "https://localhost:8080/"
        },
        "id": "3ekiw9CrJfcc",
        "outputId": "08ad206c-63f2-4be9-9e2f-14b7c3401df0"
      },
      "outputs": [
        {
          "output_type": "stream",
          "name": "stdout",
          "text": [
            "\n",
            "Scaled Features (X_scaled):\n",
            "          0         1         2         3    4\n",
            "0  0.000007  0.000007  0.000007  0.000007  0.0\n",
            "1  0.000007  0.000007  0.000007  0.000007  0.0\n",
            "2  0.000007  0.000007  0.000007  0.000007  0.0\n",
            "3  0.000007  0.000007  0.000007  0.000007  0.0\n",
            "4  0.000007  0.000007  0.000007  0.000007  0.0\n"
          ]
        }
      ],
      "execution_count": null
    },
    {
      "cell_type": "code",
      "source": [
        "from cuml.model_selection import train_test_split\n",
        "\n",
        "test_size = 0.20\n",
        "train_size = int(len(X_scaled) * (1 - test_size))\n",
        "\n",
        "X_train = X_scaled[:train_size]\n",
        "X_test = X_scaled[train_size:]\n",
        "y_train = y[:train_size]\n",
        "y_test = y[train_size:]\n",
        "\n",
        "print(f\"\\nData Splitting:\")\n",
        "print(f\"X_train shape: {X_train.shape}\")\n",
        "print(f\"X_test shape: {X_test.shape}\")\n",
        "print(f\"y_train shape: {y_train.shape}\")\n",
        "print(f\"y_test shape: {y_test.shape}\")"
      ],
      "metadata": {
        "trusted": true,
        "execution": {
          "iopub.status.busy": "2025-04-15T15:02:59.075079Z",
          "iopub.execute_input": "2025-04-15T15:02:59.075343Z",
          "iopub.status.idle": "2025-04-15T15:02:59.083467Z",
          "shell.execute_reply.started": "2025-04-15T15:02:59.075315Z",
          "shell.execute_reply": "2025-04-15T15:02:59.082552Z"
        },
        "colab": {
          "base_uri": "https://localhost:8080/"
        },
        "id": "25yT11HCJfcc",
        "outputId": "9a117e4f-2ded-4d72-85ad-5acf6221af9c"
      },
      "outputs": [
        {
          "output_type": "stream",
          "name": "stdout",
          "text": [
            "\n",
            "Data Splitting:\n",
            "X_train shape: (5425824, 5)\n",
            "X_test shape: (1356456, 5)\n",
            "y_train shape: (5425824,)\n",
            "y_test shape: (1356456,)\n"
          ]
        }
      ],
      "execution_count": null
    },
    {
      "cell_type": "code",
      "source": [
        "%%time\n",
        "from cuml.ensemble import RandomForestRegressor\n",
        "rf_regressor = RandomForestRegressor(n_estimators=100, max_depth=10, random_state=101)\n",
        "\n",
        "# Train the model\n",
        "rf_regressor.fit(X_train, y_train)\n",
        "\n",
        "y_pred = rf_regressor.predict(X_test)\n",
        "\n",
        "from cuml.metrics import mean_squared_error\n",
        "mse = mean_squared_error(y_test, y_pred)\n",
        "print(f\"Mean Squared Error: {mse}\")\n",
        "\n"
      ],
      "metadata": {
        "trusted": true,
        "execution": {
          "iopub.status.busy": "2025-04-15T15:03:03.804853Z",
          "iopub.execute_input": "2025-04-15T15:03:03.805148Z",
          "iopub.status.idle": "2025-04-15T15:03:03.960977Z",
          "shell.execute_reply.started": "2025-04-15T15:03:03.805107Z",
          "shell.execute_reply": "2025-04-15T15:03:03.960178Z"
        },
        "colab": {
          "base_uri": "https://localhost:8080/"
        },
        "id": "NZVtWAaMJfcc",
        "outputId": "81095c86-c7fa-4549-92ef-331164374981"
      },
      "outputs": [
        {
          "output_type": "stream",
          "name": "stderr",
          "text": [
            "/usr/local/lib/python3.11/dist-packages/cuml/internals/api_decorators.py:368: UserWarning: For reproducible results in Random Forest Classifier or for almost reproducible results in Random Forest Regressor, n_streams=1 is recommended. If n_streams is > 1, results may vary due to stream/thread timing differences, even when random_state is set\n",
            "  return init_func(self, *args, **kwargs)\n"
          ]
        },
        {
          "output_type": "stream",
          "name": "stdout",
          "text": [
            "Mean Squared Error: 71194427.06165354\n",
            "CPU times: user 37.2 s, sys: 11 s, total: 48.2 s\n",
            "Wall time: 14.2 s\n"
          ]
        }
      ],
      "execution_count": null
    },
    {
      "cell_type": "code",
      "source": [
        "%%time\n",
        "y_pred = rf_regressor.predict(X_test)\n",
        "\n",
        "from cuml.metrics import mean_squared_error\n",
        "mse = mean_squared_error(y_test, y_pred)\n",
        "print(f\"Mean Squared Error: {mse}\")\n"
      ],
      "metadata": {
        "colab": {
          "base_uri": "https://localhost:8080/"
        },
        "id": "_Y_JJSi-Myzj",
        "outputId": "2702aa51-a001-4059-ba6a-10ed6f513d45"
      },
      "execution_count": null,
      "outputs": [
        {
          "output_type": "stream",
          "name": "stdout",
          "text": [
            "Mean Squared Error: 71194427.06165354\n",
            "CPU times: user 412 ms, sys: 1.42 ms, total: 414 ms\n",
            "Wall time: 49.3 ms\n"
          ]
        }
      ]
    },
    {
      "cell_type": "code",
      "source": [
        "\n",
        "from cuml.metrics import r2_score, mean_absolute_error\n",
        "\n",
        "\n",
        "\n",
        "mse = mean_squared_error(y_test, y_pred)\n",
        "print(f\"Mean Squared Error: {mse}\")\n",
        "\n",
        "r2 = r2_score(y_test, y_pred)\n",
        "print(f\"R-squared: {r2}\")\n",
        "\n",
        "mae = mean_absolute_error(y_test, y_pred)\n",
        "print(f\"Mean Absolute Error: {mae}\")\n"
      ],
      "metadata": {
        "trusted": true,
        "execution": {
          "iopub.status.busy": "2025-04-15T15:03:09.211788Z",
          "iopub.execute_input": "2025-04-15T15:03:09.212074Z",
          "iopub.status.idle": "2025-04-15T15:03:12.125446Z",
          "shell.execute_reply.started": "2025-04-15T15:03:09.212055Z",
          "shell.execute_reply": "2025-04-15T15:03:12.124713Z"
        },
        "colab": {
          "base_uri": "https://localhost:8080/"
        },
        "id": "aIXwYPOZJfcc",
        "outputId": "b045b94d-0e5e-4c06-8fd6-f837a9ae66f3"
      },
      "outputs": [
        {
          "output_type": "stream",
          "name": "stdout",
          "text": [
            "Mean Squared Error: 71194427.06165354\n",
            "R-squared: 0.847213088491243\n",
            "Mean Absolute Error: 4153.054405271313\n"
          ]
        }
      ],
      "execution_count": null
    },
    {
      "cell_type": "code",
      "source": [
        "import joblib\n",
        "\n",
        "joblib.dump(X_test, 'X_test.joblib')\n",
        "\n",
        "joblib.dump(rf_regressor, 'model.joblib')\n",
        "\n",
        "joblib.dump(y_pred, 'prediction.joblib')\n",
        "\n",
        "joblib.dump(scaler, 'scaler.joblib')\n",
        "\n",
        "print(\"Data saved successfully!\")\n"
      ],
      "metadata": {
        "colab": {
          "base_uri": "https://localhost:8080/"
        },
        "id": "xjXy32ZjNwXz",
        "outputId": "71dbe5e9-fbe6-4377-8162-c6ce8e417bf3"
      },
      "execution_count": null,
      "outputs": [
        {
          "output_type": "stream",
          "name": "stdout",
          "text": [
            "Data saved successfully!\n"
          ]
        }
      ]
    }
  ]
}